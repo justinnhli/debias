{
 "cells": [
  {
   "cell_type": "code",
   "execution_count": 33,
   "metadata": {},
   "outputs": [],
   "source": [
    "from pathlib import Path\n",
    "\n",
    "from IPython.core.display import display, HTML\n",
    "\n",
    "from experiments import read_word_list, read_gender_pairs\n",
    "from experiments import load_word2vec_embedding, debias_bolukbasi_original, create_randomized_swapped_corpus"
   ]
  },
  {
   "cell_type": "code",
   "execution_count": 34,
   "metadata": {},
   "outputs": [],
   "source": [
    "def _new_section():\n",
    "    \n",
    "    state = {\n",
    "        'section': 1,\n",
    "    }\n",
    "    \n",
    "    def _display_new_section(title):\n",
    "        display(HTML(f'<h3>{state[\"section\"]}. {title}</h3>'))\n",
    "        state['section'] += 1\n",
    "        state['subsection'] = 1\n",
    "        \n",
    "    return _display_new_section\n",
    "\n",
    "new_section = _new_section()"
   ]
  },
  {
   "cell_type": "raw",
   "metadata": {},
   "source": [
    "OUTLINE\n",
    "\n",
    "current word embedding debiasing techniques only look at one dimensional biases\n",
    "    eg. gender\n",
    "even then, the dimensions are not clea\n",
    "    FIXME need evidence\n",
    "interested in more complicated dimensions\n",
    "    sexuality, nationality, religion\n",
    "methods are lacking\n",
    "    majority based on rejecting dimensions\n",
    "        problematic, since it reduces \n",
    "        FIXME need evidence\n",
    "    indirect biases remain (FIXME citation needed)\n",
    "instead, alternate method based on corpus manipulation\n",
    "    randomly swap biased words, then add words back in"
   ]
  },
  {
   "cell_type": "markdown",
   "metadata": {},
   "source": [
    "Load in some data first"
   ]
  },
  {
   "cell_type": "code",
   "execution_count": 39,
   "metadata": {},
   "outputs": [],
   "source": [
    "corpus_path = Path('corpora/wikipedia-1')\n",
    "# load in the relevant data\n",
    "gender_pairs_file = Path('data/gender-pairs/definitional')\n",
    "gender_pairs = read_gender_pairs(gender_pairs_file)\n",
    "gendered_words = read_word_list(Path('data/gendered-words/gender_specific_seed'))\n",
    "equalize_pairs = read_gender_pairs(Path('data/gender-pairs/equalize'))"
   ]
  },
  {
   "cell_type": "code",
   "execution_count": 35,
   "metadata": {},
   "outputs": [
    {
     "data": {
      "text/html": [
       "<h3>1. Gender is not one-dimensional</h3>"
      ],
      "text/plain": [
       "<IPython.core.display.HTML object>"
      ]
     },
     "metadata": {},
     "output_type": "display_data"
    }
   ],
   "source": [
    "new_section('Gender is not one-dimensional')"
   ]
  },
  {
   "cell_type": "markdown",
   "metadata": {},
   "source": [
    "Let's take a look at the "
   ]
  },
  {
   "cell_type": "code",
   "execution_count": null,
   "metadata": {},
   "outputs": [],
   "source": [
    "baseline_model = load_word2vec_embedding(\n",
    "    corpus_path,\n",
    "    out_path=Path('models/paper-validation-baseline.w2v')\n",
    ")\n"
   ]
  },
  {
   "cell_type": "code",
   "execution_count": 36,
   "metadata": {},
   "outputs": [
    {
     "data": {
      "text/html": [
       "<h3>2. Rejection degrades performance</h3>"
      ],
      "text/plain": [
       "<IPython.core.display.HTML object>"
      ]
     },
     "metadata": {},
     "output_type": "display_data"
    }
   ],
   "source": [
    "new_section('Rejection degrades performance')"
   ]
  },
  {
   "cell_type": "code",
   "execution_count": 37,
   "metadata": {},
   "outputs": [
    {
     "data": {
      "text/html": [
       "<h3>3. Approach is valid</h3>"
      ],
      "text/plain": [
       "<IPython.core.display.HTML object>"
      ]
     },
     "metadata": {},
     "output_type": "display_data"
    }
   ],
   "source": [
    "new_section('Approach is valid')"
   ]
  },
  {
   "cell_type": "markdown",
   "metadata": {},
   "source": [
    "The first thing we want to do is to show that this swapping approach works. Unfortunately, the previous evaluation approach cannot be used to evaluate a swapped model, so we need a new analogical evaluation. The expected results look something like this:"
   ]
  },
  {
   "cell_type": "markdown",
   "metadata": {},
   "source": [
    "```\n",
    "METRIC          BASELINE      SWAPPED       BOLUKBASI\n",
    "projection\n",
    "    adjectives  0.0136640928  0.0311164421  0.0000898000\n",
    "    occupation  0.0096600337  0.0103131604  0.0000000066\n",
    "analogy\n",
    "    adjectives  0.1079770610  0.0031673744  0.0000470000\n",
    "    occupation  0.0759830767  0.0007209567  0.0000000016\n",
    "```"
   ]
  },
  {
   "cell_type": "markdown",
   "metadata": {},
   "source": [
    "For the purpose of this small experiment, we will use a small Wikipedia corpus, and the "
   ]
  },
  {
   "cell_type": "code",
   "execution_count": 38,
   "metadata": {},
   "outputs": [],
   "source": [
    "def validate_approach():\n",
    "    # settings\n",
    "    corpus_path = Path('corpora/wikipedia-1')\n",
    "    # load in the relevant data\n",
    "    gender_pairs = read_gender_pairs(Path('data/gender-pairs/definitional'))\n",
    "    gender_words = read_word_list(Path('data/gendered-words/gender_specific_seed'))\n",
    "    equalize_pairs = read_gender_pairs(Path('data/gender-pairs/equalize'))\n",
    "    # create the models\n",
    "    baseline_model = load_word2vec_embedding(\n",
    "        corpus_path,\n",
    "        outpath=Path('models/paper-validation-baseline.w2v')\n",
    "    )\n",
    "    bolukbasi_model = debias_bolukbasi_original(\n",
    "        baseline_model,\n",
    "        gender_pairs,\n",
    "        gendered_words,\n",
    "        equalize_pairs,\n",
    "        outpath=Path('models/paper-validation-bolukbasi.w2v'),\n",
    "    )\n",
    "    swapped_model = load_word2vec_embedding(\n",
    "        create_randomized_swapped_corpus(\n",
    "            corpus_path,\n",
    "            gender_pairs,\n",
    "            outpath=Path('corpora/wikipedia-1-paper-swapped'),\n",
    "        ),\n",
    "        outpath=Path('models/paper-validation-swapped.w2v')\n",
    "    )\n",
    "\n",
    "# validate_approach()"
   ]
  }
 ],
 "metadata": {
  "kernelspec": {
   "display_name": "Python 3",
   "language": "python",
   "name": "python3"
  },
  "language_info": {
   "codemirror_mode": {
    "name": "ipython",
    "version": 3
   },
   "file_extension": ".py",
   "mimetype": "text/x-python",
   "name": "python",
   "nbconvert_exporter": "python",
   "pygments_lexer": "ipython3",
   "version": "3.7.5"
  }
 },
 "nbformat": 4,
 "nbformat_minor": 2
}
